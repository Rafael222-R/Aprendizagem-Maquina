{
 "cells": [
  {
   "cell_type": "code",
   "execution_count": 1,
   "metadata": {},
   "outputs": [
    {
     "name": "stdout",
     "output_type": "stream",
     "text": [
      "   pregnancies  glucose  diastolic  triceps  insulin   bmi    dpf  age  \\\n",
      "0            6      148         72       35        0  33.6  0.627   50   \n",
      "1            1       85         66       29        0  26.6  0.351   31   \n",
      "2            8      183         64        0        0  23.3  0.672   32   \n",
      "3            1       89         66       23       94  28.1  0.167   21   \n",
      "4            0      137         40       35      168  43.1  2.288   33   \n",
      "\n",
      "   diabetes  \n",
      "0         1  \n",
      "1         0  \n",
      "2         1  \n",
      "3         0  \n",
      "4         1  \n"
     ]
    }
   ],
   "source": [
    "import pandas as pd\n",
    "diabetes_df = pd.read_csv(\"diabetes_clean.csv\")\n",
    "print(diabetes_df.head())"
   ]
  },
  {
   "cell_type": "code",
   "execution_count": 2,
   "metadata": {},
   "outputs": [
    {
     "data": {
      "application/vnd.microsoft.datawrangler.viewer.v0+json": {
       "columns": [
        {
         "name": "index",
         "rawType": "int64",
         "type": "integer"
        },
        {
         "name": "pregnancies",
         "rawType": "int64",
         "type": "integer"
        },
        {
         "name": "glucose",
         "rawType": "int64",
         "type": "integer"
        },
        {
         "name": "diastolic",
         "rawType": "int64",
         "type": "integer"
        },
        {
         "name": "triceps",
         "rawType": "int64",
         "type": "integer"
        },
        {
         "name": "insulin",
         "rawType": "int64",
         "type": "integer"
        },
        {
         "name": "bmi",
         "rawType": "float64",
         "type": "float"
        },
        {
         "name": "dpf",
         "rawType": "float64",
         "type": "float"
        },
        {
         "name": "age",
         "rawType": "int64",
         "type": "integer"
        },
        {
         "name": "diabetes",
         "rawType": "int64",
         "type": "integer"
        }
       ],
       "ref": "5452e82e-afad-4a85-b736-ed089a6e5701",
       "rows": [
        [
         "0",
         "6",
         "148",
         "72",
         "35",
         "0",
         "33.6",
         "0.627",
         "50",
         "1"
        ],
        [
         "1",
         "1",
         "85",
         "66",
         "29",
         "0",
         "26.6",
         "0.351",
         "31",
         "0"
        ],
        [
         "2",
         "8",
         "183",
         "64",
         "0",
         "0",
         "23.3",
         "0.672",
         "32",
         "1"
        ],
        [
         "3",
         "1",
         "89",
         "66",
         "23",
         "94",
         "28.1",
         "0.167",
         "21",
         "0"
        ],
        [
         "4",
         "0",
         "137",
         "40",
         "35",
         "168",
         "43.1",
         "2.288",
         "33",
         "1"
        ],
        [
         "5",
         "5",
         "116",
         "74",
         "0",
         "0",
         "25.6",
         "0.201",
         "30",
         "0"
        ],
        [
         "6",
         "3",
         "78",
         "50",
         "32",
         "88",
         "31.0",
         "0.248",
         "26",
         "1"
        ],
        [
         "7",
         "10",
         "115",
         "0",
         "0",
         "0",
         "35.3",
         "0.134",
         "29",
         "0"
        ],
        [
         "8",
         "2",
         "197",
         "70",
         "45",
         "543",
         "30.5",
         "0.158",
         "53",
         "1"
        ],
        [
         "9",
         "8",
         "125",
         "96",
         "0",
         "0",
         "0.0",
         "0.232",
         "54",
         "1"
        ],
        [
         "10",
         "4",
         "110",
         "92",
         "0",
         "0",
         "37.6",
         "0.191",
         "30",
         "0"
        ],
        [
         "11",
         "10",
         "168",
         "74",
         "0",
         "0",
         "38.0",
         "0.537",
         "34",
         "1"
        ],
        [
         "12",
         "10",
         "139",
         "80",
         "0",
         "0",
         "27.1",
         "1.441",
         "57",
         "0"
        ],
        [
         "13",
         "1",
         "189",
         "60",
         "23",
         "846",
         "30.1",
         "0.398",
         "59",
         "1"
        ],
        [
         "14",
         "5",
         "166",
         "72",
         "19",
         "175",
         "25.8",
         "0.587",
         "51",
         "1"
        ],
        [
         "15",
         "7",
         "100",
         "0",
         "0",
         "0",
         "30.0",
         "0.484",
         "32",
         "1"
        ],
        [
         "16",
         "0",
         "118",
         "84",
         "47",
         "230",
         "45.8",
         "0.551",
         "31",
         "1"
        ],
        [
         "17",
         "7",
         "107",
         "74",
         "0",
         "0",
         "29.6",
         "0.254",
         "31",
         "1"
        ],
        [
         "18",
         "1",
         "103",
         "30",
         "38",
         "83",
         "43.3",
         "0.183",
         "33",
         "0"
        ],
        [
         "19",
         "1",
         "115",
         "70",
         "30",
         "96",
         "34.6",
         "0.529",
         "32",
         "1"
        ],
        [
         "20",
         "3",
         "126",
         "88",
         "41",
         "235",
         "39.3",
         "0.704",
         "27",
         "0"
        ],
        [
         "21",
         "8",
         "99",
         "84",
         "0",
         "0",
         "35.4",
         "0.388",
         "50",
         "0"
        ],
        [
         "22",
         "7",
         "196",
         "90",
         "0",
         "0",
         "39.8",
         "0.451",
         "41",
         "1"
        ],
        [
         "23",
         "9",
         "119",
         "80",
         "35",
         "0",
         "29.0",
         "0.263",
         "29",
         "1"
        ],
        [
         "24",
         "11",
         "143",
         "94",
         "33",
         "146",
         "36.6",
         "0.254",
         "51",
         "1"
        ],
        [
         "25",
         "10",
         "125",
         "70",
         "26",
         "115",
         "31.1",
         "0.205",
         "41",
         "1"
        ],
        [
         "26",
         "7",
         "147",
         "76",
         "0",
         "0",
         "39.4",
         "0.257",
         "43",
         "1"
        ],
        [
         "27",
         "1",
         "97",
         "66",
         "15",
         "140",
         "23.2",
         "0.487",
         "22",
         "0"
        ],
        [
         "28",
         "13",
         "145",
         "82",
         "19",
         "110",
         "22.2",
         "0.245",
         "57",
         "0"
        ],
        [
         "29",
         "5",
         "117",
         "92",
         "0",
         "0",
         "34.1",
         "0.337",
         "38",
         "0"
        ],
        [
         "30",
         "5",
         "109",
         "75",
         "26",
         "0",
         "36.0",
         "0.546",
         "60",
         "0"
        ],
        [
         "31",
         "3",
         "158",
         "76",
         "36",
         "245",
         "31.6",
         "0.851",
         "28",
         "1"
        ],
        [
         "32",
         "3",
         "88",
         "58",
         "11",
         "54",
         "24.8",
         "0.267",
         "22",
         "0"
        ],
        [
         "33",
         "6",
         "92",
         "92",
         "0",
         "0",
         "19.9",
         "0.188",
         "28",
         "0"
        ],
        [
         "34",
         "10",
         "122",
         "78",
         "31",
         "0",
         "27.6",
         "0.512",
         "45",
         "0"
        ],
        [
         "35",
         "4",
         "103",
         "60",
         "33",
         "192",
         "24.0",
         "0.966",
         "33",
         "0"
        ],
        [
         "36",
         "11",
         "138",
         "76",
         "0",
         "0",
         "33.2",
         "0.42",
         "35",
         "0"
        ],
        [
         "37",
         "9",
         "102",
         "76",
         "37",
         "0",
         "32.9",
         "0.665",
         "46",
         "1"
        ],
        [
         "38",
         "2",
         "90",
         "68",
         "42",
         "0",
         "38.2",
         "0.503",
         "27",
         "1"
        ],
        [
         "39",
         "4",
         "111",
         "72",
         "47",
         "207",
         "37.1",
         "1.39",
         "56",
         "1"
        ],
        [
         "40",
         "3",
         "180",
         "64",
         "25",
         "70",
         "34.0",
         "0.271",
         "26",
         "0"
        ],
        [
         "41",
         "7",
         "133",
         "84",
         "0",
         "0",
         "40.2",
         "0.696",
         "37",
         "0"
        ],
        [
         "42",
         "7",
         "106",
         "92",
         "18",
         "0",
         "22.7",
         "0.235",
         "48",
         "0"
        ],
        [
         "43",
         "9",
         "171",
         "110",
         "24",
         "240",
         "45.4",
         "0.721",
         "54",
         "1"
        ],
        [
         "44",
         "7",
         "159",
         "64",
         "0",
         "0",
         "27.4",
         "0.294",
         "40",
         "0"
        ],
        [
         "45",
         "0",
         "180",
         "66",
         "39",
         "0",
         "42.0",
         "1.893",
         "25",
         "1"
        ],
        [
         "46",
         "1",
         "146",
         "56",
         "0",
         "0",
         "29.7",
         "0.564",
         "29",
         "0"
        ],
        [
         "47",
         "2",
         "71",
         "70",
         "27",
         "0",
         "28.0",
         "0.586",
         "22",
         "0"
        ],
        [
         "48",
         "7",
         "103",
         "66",
         "32",
         "0",
         "39.1",
         "0.344",
         "31",
         "1"
        ],
        [
         "49",
         "7",
         "105",
         "0",
         "0",
         "0",
         "0.0",
         "0.305",
         "24",
         "0"
        ]
       ],
       "shape": {
        "columns": 9,
        "rows": 768
       }
      },
      "text/html": [
       "<div>\n",
       "<style scoped>\n",
       "    .dataframe tbody tr th:only-of-type {\n",
       "        vertical-align: middle;\n",
       "    }\n",
       "\n",
       "    .dataframe tbody tr th {\n",
       "        vertical-align: top;\n",
       "    }\n",
       "\n",
       "    .dataframe thead th {\n",
       "        text-align: right;\n",
       "    }\n",
       "</style>\n",
       "<table border=\"1\" class=\"dataframe\">\n",
       "  <thead>\n",
       "    <tr style=\"text-align: right;\">\n",
       "      <th></th>\n",
       "      <th>pregnancies</th>\n",
       "      <th>glucose</th>\n",
       "      <th>diastolic</th>\n",
       "      <th>triceps</th>\n",
       "      <th>insulin</th>\n",
       "      <th>bmi</th>\n",
       "      <th>dpf</th>\n",
       "      <th>age</th>\n",
       "      <th>diabetes</th>\n",
       "    </tr>\n",
       "  </thead>\n",
       "  <tbody>\n",
       "    <tr>\n",
       "      <th>0</th>\n",
       "      <td>6</td>\n",
       "      <td>148</td>\n",
       "      <td>72</td>\n",
       "      <td>35</td>\n",
       "      <td>0</td>\n",
       "      <td>33.6</td>\n",
       "      <td>0.627</td>\n",
       "      <td>50</td>\n",
       "      <td>1</td>\n",
       "    </tr>\n",
       "    <tr>\n",
       "      <th>1</th>\n",
       "      <td>1</td>\n",
       "      <td>85</td>\n",
       "      <td>66</td>\n",
       "      <td>29</td>\n",
       "      <td>0</td>\n",
       "      <td>26.6</td>\n",
       "      <td>0.351</td>\n",
       "      <td>31</td>\n",
       "      <td>0</td>\n",
       "    </tr>\n",
       "    <tr>\n",
       "      <th>2</th>\n",
       "      <td>8</td>\n",
       "      <td>183</td>\n",
       "      <td>64</td>\n",
       "      <td>0</td>\n",
       "      <td>0</td>\n",
       "      <td>23.3</td>\n",
       "      <td>0.672</td>\n",
       "      <td>32</td>\n",
       "      <td>1</td>\n",
       "    </tr>\n",
       "    <tr>\n",
       "      <th>3</th>\n",
       "      <td>1</td>\n",
       "      <td>89</td>\n",
       "      <td>66</td>\n",
       "      <td>23</td>\n",
       "      <td>94</td>\n",
       "      <td>28.1</td>\n",
       "      <td>0.167</td>\n",
       "      <td>21</td>\n",
       "      <td>0</td>\n",
       "    </tr>\n",
       "    <tr>\n",
       "      <th>4</th>\n",
       "      <td>0</td>\n",
       "      <td>137</td>\n",
       "      <td>40</td>\n",
       "      <td>35</td>\n",
       "      <td>168</td>\n",
       "      <td>43.1</td>\n",
       "      <td>2.288</td>\n",
       "      <td>33</td>\n",
       "      <td>1</td>\n",
       "    </tr>\n",
       "    <tr>\n",
       "      <th>...</th>\n",
       "      <td>...</td>\n",
       "      <td>...</td>\n",
       "      <td>...</td>\n",
       "      <td>...</td>\n",
       "      <td>...</td>\n",
       "      <td>...</td>\n",
       "      <td>...</td>\n",
       "      <td>...</td>\n",
       "      <td>...</td>\n",
       "    </tr>\n",
       "    <tr>\n",
       "      <th>763</th>\n",
       "      <td>10</td>\n",
       "      <td>101</td>\n",
       "      <td>76</td>\n",
       "      <td>48</td>\n",
       "      <td>180</td>\n",
       "      <td>32.9</td>\n",
       "      <td>0.171</td>\n",
       "      <td>63</td>\n",
       "      <td>0</td>\n",
       "    </tr>\n",
       "    <tr>\n",
       "      <th>764</th>\n",
       "      <td>2</td>\n",
       "      <td>122</td>\n",
       "      <td>70</td>\n",
       "      <td>27</td>\n",
       "      <td>0</td>\n",
       "      <td>36.8</td>\n",
       "      <td>0.340</td>\n",
       "      <td>27</td>\n",
       "      <td>0</td>\n",
       "    </tr>\n",
       "    <tr>\n",
       "      <th>765</th>\n",
       "      <td>5</td>\n",
       "      <td>121</td>\n",
       "      <td>72</td>\n",
       "      <td>23</td>\n",
       "      <td>112</td>\n",
       "      <td>26.2</td>\n",
       "      <td>0.245</td>\n",
       "      <td>30</td>\n",
       "      <td>0</td>\n",
       "    </tr>\n",
       "    <tr>\n",
       "      <th>766</th>\n",
       "      <td>1</td>\n",
       "      <td>126</td>\n",
       "      <td>60</td>\n",
       "      <td>0</td>\n",
       "      <td>0</td>\n",
       "      <td>30.1</td>\n",
       "      <td>0.349</td>\n",
       "      <td>47</td>\n",
       "      <td>1</td>\n",
       "    </tr>\n",
       "    <tr>\n",
       "      <th>767</th>\n",
       "      <td>1</td>\n",
       "      <td>93</td>\n",
       "      <td>70</td>\n",
       "      <td>31</td>\n",
       "      <td>0</td>\n",
       "      <td>30.4</td>\n",
       "      <td>0.315</td>\n",
       "      <td>23</td>\n",
       "      <td>0</td>\n",
       "    </tr>\n",
       "  </tbody>\n",
       "</table>\n",
       "<p>768 rows × 9 columns</p>\n",
       "</div>"
      ],
      "text/plain": [
       "     pregnancies  glucose  diastolic  triceps  insulin   bmi    dpf  age  \\\n",
       "0              6      148         72       35        0  33.6  0.627   50   \n",
       "1              1       85         66       29        0  26.6  0.351   31   \n",
       "2              8      183         64        0        0  23.3  0.672   32   \n",
       "3              1       89         66       23       94  28.1  0.167   21   \n",
       "4              0      137         40       35      168  43.1  2.288   33   \n",
       "..           ...      ...        ...      ...      ...   ...    ...  ...   \n",
       "763           10      101         76       48      180  32.9  0.171   63   \n",
       "764            2      122         70       27        0  36.8  0.340   27   \n",
       "765            5      121         72       23      112  26.2  0.245   30   \n",
       "766            1      126         60        0        0  30.1  0.349   47   \n",
       "767            1       93         70       31        0  30.4  0.315   23   \n",
       "\n",
       "     diabetes  \n",
       "0           1  \n",
       "1           0  \n",
       "2           1  \n",
       "3           0  \n",
       "4           1  \n",
       "..        ...  \n",
       "763         0  \n",
       "764         0  \n",
       "765         0  \n",
       "766         1  \n",
       "767         0  \n",
       "\n",
       "[768 rows x 9 columns]"
      ]
     },
     "execution_count": 2,
     "metadata": {},
     "output_type": "execute_result"
    }
   ],
   "source": [
    "diabetes_df"
   ]
  },
  {
   "cell_type": "code",
   "execution_count": 9,
   "metadata": {},
   "outputs": [
    {
     "name": "stdout",
     "output_type": "stream",
     "text": [
      "<class 'numpy.ndarray'> <class 'numpy.ndarray'>\n"
     ]
    }
   ],
   "source": [
    "X = diabetes_df.drop(\"glucose\", axis=1).values\n",
    "y = diabetes_df[\"glucose\"].values\n",
    "print(type(X), type(y))"
   ]
  },
  {
   "cell_type": "code",
   "execution_count": 10,
   "metadata": {},
   "outputs": [
    {
     "name": "stdout",
     "output_type": "stream",
     "text": [
      "(768,) (768,)\n"
     ]
    }
   ],
   "source": [
    "X_bmi = X[:, 4]\n",
    "print(y.shape, X_bmi.shape)\n"
   ]
  },
  {
   "cell_type": "code",
   "execution_count": 11,
   "metadata": {},
   "outputs": [
    {
     "name": "stdout",
     "output_type": "stream",
     "text": [
      "(768,) (768, 1)\n"
     ]
    }
   ],
   "source": [
    "# -1 é equivalente a última linha, e 1 afirma que temos apenas uma única coluna.  \n",
    "X_bmi = X_bmi.reshape(-1, 1)  # cria uma matriz 2D de uma única coluna.\n",
    "print(y.shape, X_bmi.shape)"
   ]
  },
  {
   "cell_type": "code",
   "execution_count": 12,
   "metadata": {},
   "outputs": [
    {
     "data": {
      "image/png": "[encoded data removed]",
      "text/plain": [
       "<Figure size 640x480 with 1 Axes>"
      ]
     },
     "metadata": {},
     "output_type": "display_data"
    }
   ],
   "source": [
    "import matplotlib.pyplot as plt\n",
    "\n",
    "plt.scatter(X_bmi, y)\n",
    "plt.ylabel(\"Blood Glucose (mg/dl)\")\n",
    "plt.xlabel(\"Body Mass Index\")\n",
    "\n",
    "plt.show()"
   ]
  },
  {
   "cell_type": "code",
   "execution_count": 13,
   "metadata": {},
   "outputs": [
    {
     "data": {
      "image/png": "[encoded data removed]",
      "text/plain": [
       "<Figure size 640x480 with 1 Axes>"
      ]
     },
     "metadata": {},
     "output_type": "display_data"
    }
   ],
   "source": [
    "from sklearn.linear_model import LinearRegression\n",
    "\n",
    "reg = LinearRegression()\n",
    "reg.fit(X_bmi, y)\n",
    "predictions = reg.predict(X_bmi)\n",
    "\n",
    "plt.scatter(X_bmi, y)\n",
    "plt.plot(X_bmi, predictions)\n",
    "plt.ylabel(\"Blood Glucose (mg/dl)\")\n",
    "plt.xlabel(\"Body Mass Index\")\n",
    "plt.show()"
   ]
  },
  {
   "cell_type": "markdown",
   "metadata": {},
   "source": [
    "Exercicio\n"
   ]
  },
  {
   "cell_type": "code",
   "execution_count": 41,
   "metadata": {},
   "outputs": [
    {
     "name": "stdout",
     "output_type": "stream",
     "text": [
      "           tv     radio  social_media influencer      sales\n",
      "0     16000.0   6566.23       2907.98       Mega   54732.76\n",
      "1     13000.0   9237.76       2409.57       Mega   46677.90\n",
      "2     41000.0  15886.45       2913.41       Mega  150177.83\n",
      "3     83000.0  30020.03       6922.30       Mega  298246.34\n",
      "4     15000.0   8437.41       1406.00      Micro   56594.18\n",
      "...       ...       ...           ...        ...        ...\n",
      "4541  26000.0   4472.36        717.09      Micro   94685.87\n",
      "4542  71000.0  20610.69       6545.57       Nano  249101.92\n",
      "4543  44000.0  19800.07       5096.19      Micro  163631.46\n",
      "4544  71000.0  17534.64       1940.87      Macro  253610.41\n",
      "4545  42000.0  15966.69       5046.55      Micro  148202.41\n",
      "\n",
      "[4546 rows x 5 columns]\n"
     ]
    }
   ],
   "source": [
    "\n",
    "import pandas as pd\n",
    "\n",
    "sale_df = pd.read_csv(\"advertising_and_sales_clean.csv\")\n",
    "print(sale_df)"
   ]
  },
  {
   "cell_type": "code",
   "execution_count": 42,
   "metadata": {},
   "outputs": [
    {
     "name": "stdout",
     "output_type": "stream",
     "text": [
      "<class 'numpy.ndarray'> <class 'numpy.ndarray'>\n"
     ]
    }
   ],
   "source": [
    "import numpy as np\n",
    "\n",
    "# Create X from the radio column's values\n",
    "X = sale_df.drop(\"radio\", axis=1).values\n",
    "\n",
    "# Create y from the sales column's values\n",
    "y = sale_df[\"radio\"].values\n",
    "\n",
    "\n",
    "# Check the shape of the features and targets\n",
    "print(type(X), type(y))"
   ]
  },
  {
   "cell_type": "code",
   "execution_count": 47,
   "metadata": {},
   "outputs": [],
   "source": [
    "X = sale_df.drop([\"radio\", \"influencer\"], axis=1).select_dtypes(include=np.number).values\n"
   ]
  },
  {
   "cell_type": "code",
   "execution_count": 48,
   "metadata": {},
   "outputs": [
    {
     "name": "stdout",
     "output_type": "stream",
     "text": [
      "(4546,) (4546,)\n"
     ]
    }
   ],
   "source": [
    "X_bmi = X[:, 2]\n",
    "print(y.shape, X_bmi.shape)"
   ]
  },
  {
   "cell_type": "code",
   "execution_count": 49,
   "metadata": {},
   "outputs": [
    {
     "name": "stdout",
     "output_type": "stream",
     "text": [
      "(4546,) (4546, 1)\n"
     ]
    }
   ],
   "source": [
    "# Reshape X\n",
    "X_bmi = X_bmi.reshape(-1, 1)  # cria uma matriz 2D de uma única coluna.\n",
    "print(y.shape, X_bmi.shape)"
   ]
  },
  {
   "cell_type": "code",
   "execution_count": 50,
   "metadata": {},
   "outputs": [
    {
     "name": "stdout",
     "output_type": "stream",
     "text": [
      "[5733.59444583 5006.74471636]\n"
     ]
    }
   ],
   "source": [
    " # Import LinearRegression\n",
    "from sklearn.linear_model import LinearRegression\n",
    "\n",
    "# Create the model\n",
    "reg = LinearRegression()\n",
    "\n",
    "# Fit the model to the data\n",
    "reg.fit(X_bmi, y)\n",
    "\n",
    "# Make predictions\n",
    "predictions = reg.predict(X_bmi)\n",
    "\n",
    "print(predictions[:2])"
   ]
  },
  {
   "cell_type": "code",
   "execution_count": 51,
   "metadata": {},
   "outputs": [
    {
     "data": {
      "image/png": "[encoded data removed]",
      "text/plain": [
       "<Figure size 640x480 with 1 Axes>"
      ]
     },
     "metadata": {},
     "output_type": "display_data"
    }
   ],
   "source": [
    "# Import matplotlib.pyplot\n",
    "import matplotlib.pyplot as plt\n",
    "\n",
    "# Create scatter plot\n",
    "plt.scatter(X_bmi, y, color=\"red\")\n",
    "\n",
    "# Create line plot\n",
    "plt.plot(X_bmi,predictions, color=\"black\")\n",
    "plt.xlabel(\"Radio Expenditure ($)\")\n",
    "plt.ylabel(\"Sales ($)\")\n",
    "\n",
    "# Display the plot\n",
    "plt.show()"
   ]
  }
 ],
 "metadata": {
  "kernelspec": {
   "display_name": "Python 3",
   "language": "python",
   "name": "python3"
  },
  "language_info": {
   "codemirror_mode": {
    "name": "ipython",
    "version": 3
   },
   "file_extension": ".py",
   "mimetype": "text/x-python",
   "name": "python",
   "nbconvert_exporter": "python",
   "pygments_lexer": "ipython3",
   "version": "3.12.10"
  }
 },
 "nbformat": 4,
 "nbformat_minor": 2
}
