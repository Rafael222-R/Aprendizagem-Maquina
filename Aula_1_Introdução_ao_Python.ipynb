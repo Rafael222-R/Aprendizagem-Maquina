{
  "cells": [
    {
      "cell_type": "markdown",
      "metadata": {
        "id": "cMqX95Xfo5gm"
      },
      "source": [
        "# Introdução ao Python - Aula 1\n",
        "## Autor: Daniel Souza\n",
        "### Objetivo: Introduzir os conceitos básicos de Python e preparar os alunos para o aprendizado de Machine Learning"
      ]
    },
    {
      "cell_type": "markdown",
      "metadata": {
        "id": "2MRaXboLo_zR"
      },
      "source": [
        "# Seção 1: Conceitos Básicos de Python"
      ]
    },
    {
      "cell_type": "code",
      "execution_count": 1,
      "metadata": {
        "colab": {
          "base_uri": "https://localhost:8080/"
        },
        "id": "Ih0bdO6EpLEZ",
        "outputId": "f2d7cb79-4a32-416e-c807-fbd04dd47d10"
      },
      "outputs": [
        {
          "name": "stdout",
          "output_type": "stream",
          "text": [
            "Olá, bem-vindo à primeira aula de Machine Learning!\n"
          ]
        }
      ],
      "source": [
        "print('Olá, bem-vindo à primeira aula de Machine Learning!')"
      ]
    },
    {
      "cell_type": "markdown",
      "metadata": {
        "id": "JYh7WJsrpPdf"
      },
      "source": [
        "## Tipos de dados Elementares"
      ]
    },
    {
      "cell_type": "code",
      "execution_count": 3,
      "metadata": {
        "colab": {
          "base_uri": "https://localhost:8080/"
        },
        "id": "gHWwkPDfpZdC",
        "outputId": "ca07b7b8-2c93-4707-e4a1-ee0bf35fd849"
      },
      "outputs": [
        {
          "name": "stdout",
          "output_type": "stream",
          "text": [
            "10 3.14 Olá, Mundo! True\n"
          ]
        }
      ],
      "source": [
        "# Tipos de dados\n",
        "numero_inteiro = 10\n",
        "numero_decimal = 3.14\n",
        "texto = 'Olá, Mundo!'\n",
        "booleano = True\n",
        "\n",
        "print(numero_inteiro, numero_decimal, texto, booleano)"
      ]
    },
    {
      "cell_type": "code",
      "execution_count": 4,
      "metadata": {
        "colab": {
          "base_uri": "https://localhost:8080/"
        },
        "id": "myQFMmaMuOzj",
        "outputId": "05d74144-8eae-4900-8fdd-8bbaf2447a44"
      },
      "outputs": [
        {
          "name": "stdout",
          "output_type": "stream",
          "text": [
            "inteiro: 10, decimal: 3.14\n",
            "texto: Olá, Mundo!\n",
            "Booleano: True\n"
          ]
        }
      ],
      "source": [
        "# console.log(\"${}\")\n",
        "print(f\"inteiro: {numero_inteiro}, decimal: {numero_decimal}\")\n",
        "print(f'texto: {texto}')\n",
        "print(f\"Booleano: {booleano}\")"
      ]
    },
    {
      "cell_type": "markdown",
      "metadata": {
        "id": "We8UkqniCh_C"
      },
      "source": [
        "## Identação\n",
        "\n",
        "- Não é permitido escrita de código contínuo em diferentes identações.\n",
        "\n",
        "- Identação é utilizada para determinar que um conjunto de instruções está dentro de outra instrução.\n",
        "  - Geralmente delimitado por chaves `{}`."
      ]
    },
    {
      "cell_type": "markdown",
      "metadata": {
        "id": "aaQGrbqnDd-K"
      },
      "source": [
        "### Exemplo de erro"
      ]
    },
    {
      "cell_type": "code",
      "execution_count": 8,
      "metadata": {
        "colab": {
          "base_uri": "https://localhost:8080/",
          "height": 106
        },
        "id": "Peo-6Yo2DgSy",
        "outputId": "97abcc78-c3e0-48f2-8fb6-544f4e4bd962"
      },
      "outputs": [
        {
          "ename": "IndentationError",
          "evalue": "unexpected indent (3680430819.py, line 2)",
          "output_type": "error",
          "traceback": [
            "  \u001b[36mCell\u001b[39m\u001b[36m \u001b[39m\u001b[32mIn[8]\u001b[39m\u001b[32m, line 2\u001b[39m\n\u001b[31m    \u001b[39m\u001b[31mprint(\"Aqui dá erro pois está em outro nível de identação\")\u001b[39m\n    ^\n\u001b[31mIndentationError\u001b[39m\u001b[31m:\u001b[39m unexpected indent\n"
          ]
        }
      ],
      "source": [
        "print(\"Olá mundo 1\")\n",
        "  print(\"Aqui dá erro pois está em outro nível de identação\")\n",
        "print(\"outra identaçao\")"
      ]
    },
    {
      "cell_type": "markdown",
      "metadata": {
        "id": "oMJf5fn-EJwD"
      },
      "source": [
        "## Uso do `;`\n",
        "\n",
        "- Apenas se iremos executar mais de uma instrução na mesma linha\n",
        "\n",
        "- **Para que serve**: serve para identificar que uma instrução finalizou para que possa determinar que o que virá em seguida é uma nova instrução."
      ]
    },
    {
      "cell_type": "code",
      "execution_count": 9,
      "metadata": {
        "colab": {
          "base_uri": "https://localhost:8080/",
          "height": 106
        },
        "id": "H4wbT1VuEkA-",
        "outputId": "82666ebb-901f-4ea2-d1ea-7d887a18fbe0"
      },
      "outputs": [
        {
          "ename": "SyntaxError",
          "evalue": "invalid syntax (2432651078.py, line 2)",
          "output_type": "error",
          "traceback": [
            "  \u001b[36mCell\u001b[39m\u001b[36m \u001b[39m\u001b[32mIn[9]\u001b[39m\u001b[32m, line 2\u001b[39m\n\u001b[31m    \u001b[39m\u001b[31mprint(\"Olá mundo\") print(\"Olá mundo 2\")\u001b[39m\n                       ^\n\u001b[31mSyntaxError\u001b[39m\u001b[31m:\u001b[39m invalid syntax\n"
          ]
        }
      ],
      "source": [
        "# Exemplo que dá erro\n",
        "print(\"Olá mundo\") print(\"Olá mundo 2\")"
      ]
    },
    {
      "cell_type": "code",
      "execution_count": 10,
      "metadata": {
        "colab": {
          "base_uri": "https://localhost:8080/"
        },
        "id": "EXsskzGgFU6x",
        "outputId": "f80f543d-5aab-4337-e67f-2152bae5b99c"
      },
      "outputs": [
        {
          "name": "stdout",
          "output_type": "stream",
          "text": [
            "Olá mundo\n",
            "Olá mundo 2\n"
          ]
        }
      ],
      "source": [
        "# Aqui separa as instruções\n",
        "print(\"Olá mundo\"); print(\"Olá mundo 2\")"
      ]
    },
    {
      "cell_type": "markdown",
      "metadata": {
        "id": "8rfcfO_apcMm"
      },
      "source": [
        "## Estruturas de Dados"
      ]
    },
    {
      "cell_type": "code",
      "execution_count": 12,
      "metadata": {
        "colab": {
          "base_uri": "https://localhost:8080/"
        },
        "id": "3z10LMErpgpI",
        "outputId": "72a94e8d-43e3-45e4-defa-41e1c6ff2d05"
      },
      "outputs": [
        {
          "name": "stdout",
          "output_type": "stream",
          "text": [
            "lista: [1, 2, 3, 3, 4]\n",
            "tupla: (5, 6, 7)\n",
            "dicionario: {'nome': 'João', 'idade': 25}\n",
            "conjunto: {1, 2, 3, 4}\n"
          ]
        }
      ],
      "source": [
        "lista = [1, 2, 3, 3, 4]\n",
        "tupla = (5, 6, 7)\n",
        "dicionario = {'nome': 'João', 'idade': 25}\n",
        "conjunto = {1, 2, 3, 3, 4}\n",
        "\n",
        "print(f'lista: {lista}')\n",
        "print(f'tupla: {tupla}')\n",
        "print(f'dicionario: {dicionario}')\n",
        "print(f'conjunto: {conjunto}')"
      ]
    },
    {
      "cell_type": "markdown",
      "metadata": {
        "id": "_Q3gGODdpgIY"
      },
      "source": [
        "## Estruturas de Controle"
      ]
    },
    {
      "cell_type": "code",
      "execution_count": 14,
      "metadata": {
        "colab": {
          "base_uri": "https://localhost:8080/"
        },
        "id": "FdBgxqTWpqzv",
        "outputId": "a5cbfe98-6265-4ab9-936b-872775211d55"
      },
      "outputs": [
        {
          "name": "stdout",
          "output_type": "stream",
          "text": [
            "Número (lista): 1\n",
            "Número (lista): 2\n",
            "Número (lista): 3\n",
            "Número (lista): 3\n",
            "Número (lista): 4\n",
            "Número (conjunto): 1\n",
            "Número (conjunto): 2\n",
            "Número (conjunto): 3\n",
            "Número (conjunto): 4\n",
            "O número é maior que 5\n"
          ]
        }
      ],
      "source": [
        "for i in lista:\n",
        "    print(f'Número (lista): {i}')\n",
        "\n",
        "for i in conjunto:\n",
        "    print(f'Número (conjunto): {i}')\n",
        "\n",
        "if numero_inteiro > 5:\n",
        "    print('O número é maior que 5')\n"
      ]
    },
    {
      "cell_type": "markdown",
      "metadata": {
        "id": "TTnOqZBkw3Bm"
      },
      "source": [
        "### Estrutura de repetição com índice."
      ]
    },
    {
      "cell_type": "code",
      "execution_count": null,
      "metadata": {
        "colab": {
          "base_uri": "https://localhost:8080/"
        },
        "id": "aW3_rLP1w-T8",
        "outputId": "dc1e8b76-2392-4ec6-894f-121588f96d57"
      },
      "outputs": [
        {
          "name": "stdout",
          "output_type": "stream",
          "text": [
            "Índice: 0, Valor: 1\n",
            "Índice: 1, Valor: 2\n",
            "Índice: 2, Valor: 3\n",
            "Índice: 3, Valor: 3\n",
            "Índice: 4, Valor: 4\n"
          ]
        }
      ],
      "source": [
        "for indice, valor in enumerate(lista):\n",
        "    print(f'Índice: {indice}, Valor: {valor}')"
      ]
    },
    {
      "cell_type": "code",
      "execution_count": null,
      "metadata": {
        "colab": {
          "base_uri": "https://localhost:8080/"
        },
        "id": "jZgUGKlmxSU9",
        "outputId": "79dc1a28-6d2b-4e03-87d2-7e5a63da2511"
      },
      "outputs": [
        {
          "name": "stdout",
          "output_type": "stream",
          "text": [
            "Índice: 0, Valor: 1\n",
            "Índice: 1, Valor: 2\n",
            "Índice: 2, Valor: 3\n",
            "Índice: 3, Valor: 5\n",
            "Índice: 4, Valor: 4\n"
          ]
        }
      ],
      "source": [
        "lista[3] = 5\n",
        "for indice, valor in enumerate(lista):\n",
        "    print(f'Índice: {indice}, Valor: {valor}')"
      ]
    },
    {
      "cell_type": "code",
      "execution_count": 39,
      "metadata": {
        "colab": {
          "base_uri": "https://localhost:8080/"
        },
        "id": "HSbfISVyxhN8",
        "outputId": "def9671c-c8b4-443c-943b-7dba7e89ea4b"
      },
      "outputs": [
        {
          "name": "stdout",
          "output_type": "stream",
          "text": [
            "1\n",
            "2\n",
            "3\n",
            "4\n",
            "5\n",
            "6\n",
            "7\n",
            "8\n",
            "9\n",
            "10\n",
            "Soma: 55\n"
          ]
        }
      ],
      "source": [
        "# soma dos números de 1 a 10\n",
        "soma = 0\n",
        "for i in range(1, 11):\n",
        "    print(i)\n",
        "    soma += i\n",
        "print(f'Soma: {soma}')"
      ]
    },
    {
      "cell_type": "code",
      "execution_count": 26,
      "metadata": {
        "id": "0e7v-GjEIW0F"
      },
      "outputs": [
        {
          "ename": "SyntaxError",
          "evalue": "invalid syntax (3349200831.py, line 5)",
          "output_type": "error",
          "traceback": [
            "  \u001b[36mCell\u001b[39m\u001b[36m \u001b[39m\u001b[32mIn[26]\u001b[39m\u001b[32m, line 5\u001b[39m\n\u001b[31m    \u001b[39m\u001b[31m....\u001b[39m\n        ^\n\u001b[31mSyntaxError\u001b[39m\u001b[31m:\u001b[39m invalid syntax\n"
          ]
        }
      ],
      "source": [
        "soma = 0\n",
        "soma = soma + 1\n",
        "soma = soma + 2\n",
        "soma = soma + 3\n",
        "....\n",
        "soma = soma + 10\n",
        "\n",
        "for i in range(1, 11):\n",
        "    soma = soma + i\n",
        "\n",
        "print(soma)\n"
      ]
    },
    {
      "cell_type": "markdown",
      "metadata": {
        "id": "U9x6qgl7pp3r"
      },
      "source": [
        "## Funções"
      ]
    },
    {
      "cell_type": "code",
      "execution_count": 40,
      "metadata": {
        "colab": {
          "base_uri": "https://localhost:8080/"
        },
        "id": "rlQI1iNcpxT0",
        "outputId": "79154c41-eba1-4eaa-ea36-bff48c94764a"
      },
      "outputs": [
        {
          "name": "stdout",
          "output_type": "stream",
          "text": [
            "Olá, Aluno!\n"
          ]
        }
      ],
      "source": [
        "def saudacao(nome):\n",
        "    return f'Olá, {nome}!'\n",
        "\n",
        "print(saudacao('Aluno'))"
      ]
    },
    {
      "cell_type": "markdown",
      "metadata": {
        "id": "laPG_gnRp3CQ"
      },
      "source": [
        "# Bibliotecas Essenciais para Machine Learning"
      ]
    },
    {
      "cell_type": "code",
      "execution_count": 41,
      "metadata": {
        "colab": {
          "base_uri": "https://localhost:8080/",
          "height": 576
        },
        "id": "QFJiKX4hospm",
        "outputId": "4ccf04bb-4253-4022-fba0-182fd3f5392b"
      },
      "outputs": [
        {
          "name": "stdout",
          "output_type": "stream",
          "text": [
            "Array Numpy: [1 2 3 4 5]\n",
            "DataFrame Pandas:\n",
            "      Nome  Idade\n",
            "0     Ana     23\n",
            "1   Bruno     35\n",
            "2  Carlos     19\n"
          ]
        },
        {
          "data": {
            "image/png": "[encoded data removed]",
            "text/plain": [
              "<Figure size 640x480 with 1 Axes>"
            ]
          },
          "metadata": {},
          "output_type": "display_data"
        }
      ],
      "source": [
        "# Seção 2: Bibliotecas Essenciais para Machine Learning\n",
        "import numpy as np\n",
        "import pandas as pd\n",
        "import matplotlib.pyplot as plt\n",
        "\n",
        "# Numpy\n",
        "array = np.array([1, 2, 3, 4, 5])\n",
        "print('Array Numpy:', array)\n",
        "\n",
        "# Pandas\n",
        "df = pd.DataFrame({'Nome': ['Ana', 'Bruno', 'Carlos'], 'Idade': [23, 35, 19]})\n",
        "print('DataFrame Pandas:\\n', df)\n",
        "\n",
        "# Matplotlib\n",
        "plt.plot(array, array**2)\n",
        "plt.xlabel('X')\n",
        "plt.ylabel('X ao quadrado')\n",
        "plt.title('Gráfico Exemplo')\n",
        "plt.show()"
      ]
    },
    {
      "cell_type": "code",
      "execution_count": 53,
      "metadata": {
        "id": "1yloBLDcrGbs"
      },
      "outputs": [
        {
          "name": "stdout",
          "output_type": "stream",
          "text": [
            " o Fatorial de 5 é 120\n"
          ]
        }
      ],
      "source": [
        "# prompt: Crie exercícios de algoritmos básicos de python, sem necessidade de bibliotecas\n",
        "\n",
        "# Exercício 1: Fatorial de um número\n",
        "\n",
        "# Exercício 2: Verificar se um número é primo\n",
        "\n",
        "# Exercício 3: Encontrar o maior elemento em uma lista\n"
      ]
    },
    {
      "cell_type": "markdown",
      "metadata": {},
      "source": [
        "Resolvendo os Exercicios\n"
      ]
    },
    {
      "cell_type": "code",
      "execution_count": 54,
      "metadata": {},
      "outputs": [
        {
          "name": "stdout",
          "output_type": "stream",
          "text": [
            " o Fatorial de 5 é 120\n"
          ]
        }
      ],
      "source": [
        "# Exercício 1: Fatorial de um número\n",
        "\n",
        "n = 5\n",
        "fatorial = 1\n",
        "\n",
        "for i in range(1, n + 1):\n",
        "    fatorial *= i\n",
        "\n",
        "print(f\" o Fatorial de {n} é {fatorial}\")\n"
      ]
    },
    {
      "cell_type": "code",
      "execution_count": 58,
      "metadata": {},
      "outputs": [
        {
          "name": "stdout",
          "output_type": "stream",
          "text": [
            "11 é primo !\n"
          ]
        }
      ],
      "source": [
        "# Exercício 2: Verificar se um número é primo\n",
        "\n",
        "n = 11\n",
        "primo = True\n",
        "\n",
        "if n <=1: \n",
        "    primo = False\n",
        "else:\n",
        "    for i in range(2 , n):\n",
        "        if n % i == 0:\n",
        "            primo = False\n",
        "            break\n",
        "\n",
        "print(f\"{n} é primo !\" if primo else f\"{n} Não é Primo.\")\n"
      ]
    },
    {
      "cell_type": "code",
      "execution_count": 64,
      "metadata": {},
      "outputs": [
        {
          "name": "stdout",
          "output_type": "stream",
          "text": [
            "O maior número da lista é 88\n"
          ]
        }
      ],
      "source": [
        "# Exercício 3: Encontrar o maior elemento em uma lista\n",
        "\n",
        "numeros = [10, 25, 3, 88, 42, 7]  # você também pode usar input pra montar a lista\n",
        "maior = numeros[0]\n",
        "\n",
        "for numero in numeros:\n",
        "    if numero > maior:\n",
        "        maior = numero\n",
        "\n",
        "print(f\"O maior número da lista é {maior}\")\n"
      ]
    }
  ],
  "metadata": {
    "colab": {
      "provenance": []
    },
    "kernelspec": {
      "display_name": "Python 3",
      "name": "python3"
    },
    "language_info": {
      "codemirror_mode": {
        "name": "ipython",
        "version": 3
      },
      "file_extension": ".py",
      "mimetype": "text/x-python",
      "name": "python",
      "nbconvert_exporter": "python",
      "pygments_lexer": "ipython3",
      "version": "3.12.10"
    }
  },
  "nbformat": 4,
  "nbformat_minor": 0
}
