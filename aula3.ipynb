{
 "cells": [
  {
   "cell_type": "code",
   "execution_count": 1,
   "metadata": {},
   "outputs": [
    {
     "name": "stdout",
     "output_type": "stream",
     "text": [
      "Defaulting to user installation because normal site-packages is not writeable\n",
      "Requirement already satisfied: pandas in c:\\users\\23114290012\\appdata\\roaming\\python\\python313\\site-packages (2.2.3)\n",
      "Requirement already satisfied: numpy>=1.26.0 in c:\\program files\\python313\\lib\\site-packages (from pandas) (2.2.0)\n",
      "Requirement already satisfied: python-dateutil>=2.8.2 in c:\\users\\23114290012\\appdata\\roaming\\python\\python313\\site-packages (from pandas) (2.9.0.post0)\n",
      "Requirement already satisfied: pytz>=2020.1 in c:\\users\\23114290012\\appdata\\roaming\\python\\python313\\site-packages (from pandas) (2025.1)\n",
      "Requirement already satisfied: tzdata>=2022.7 in c:\\users\\23114290012\\appdata\\roaming\\python\\python313\\site-packages (from pandas) (2025.1)\n",
      "Requirement already satisfied: six>=1.5 in c:\\users\\23114290012\\appdata\\roaming\\python\\python313\\site-packages (from python-dateutil>=2.8.2->pandas) (1.17.0)\n",
      "Note: you may need to restart the kernel to use updated packages.\n"
     ]
    },
    {
     "name": "stderr",
     "output_type": "stream",
     "text": [
      "\n",
      "[notice] A new release of pip is available: 24.3.1 -> 25.0.1\n",
      "[notice] To update, run: python.exe -m pip install --upgrade pip\n"
     ]
    }
   ],
   "source": [
    "pip install pandas"
   ]
  },
  {
   "cell_type": "code",
   "execution_count": 2,
   "metadata": {},
   "outputs": [
    {
     "name": "stdout",
     "output_type": "stream",
     "text": [
      "numpy version: 2.2.0\n",
      "pandas version: 2.2.3\n"
     ]
    }
   ],
   "source": [
    "\n",
    "import numpy\n",
    "import pandas\n",
    "print('numpy version:', numpy.__version__)\n",
    "print('pandas version:', pandas.__version__)"
   ]
  },
  {
   "cell_type": "code",
   "execution_count": 3,
   "metadata": {},
   "outputs": [],
   "source": [
    "import pandas as pd\n",
    "\n",
    "#Create a DataFrame\n",
    "\n",
    "marketing = pd.read_csv('marketing.csv', delimiter=',')"
   ]
  },
  {
   "cell_type": "markdown",
   "metadata": {},
   "source": [
    "Exibindo dados do DataFrame Marking"
   ]
  },
  {
   "cell_type": "code",
   "execution_count": 4,
   "metadata": {},
   "outputs": [
    {
     "name": "stdout",
     "output_type": "stream",
     "text": [
      "      user_id date_served marketing_channel          variant converted  \\\n",
      "0  a100000029      1/1/18         House Ads  personalization      True   \n",
      "1  a100000030      1/1/18         House Ads  personalization      True   \n",
      "2  a100000031      1/1/18         House Ads  personalization      True   \n",
      "3  a100000032      1/1/18         House Ads  personalization      True   \n",
      "4  a100000033      1/1/18         House Ads  personalization      True   \n",
      "\n",
      "  language_displayed language_preferred    age_group date_subscribed  \\\n",
      "0            English            English   0-18 years          1/1/18   \n",
      "1            English            English  19-24 years          1/1/18   \n",
      "2            English            English  24-30 years          1/1/18   \n",
      "3            English            English  30-36 years          1/1/18   \n",
      "4            English            English  36-45 years          1/1/18   \n",
      "\n",
      "  date_canceled subscribing_channel is_retained  \n",
      "0           NaN           House Ads        True  \n",
      "1           NaN           House Ads        True  \n",
      "2           NaN           House Ads        True  \n",
      "3           NaN           House Ads        True  \n",
      "4           NaN           House Ads        True  \n"
     ]
    }
   ],
   "source": [
    "print(marketing.head(5)) # Exibir todos os dados da Colunas "
   ]
  },
  {
   "cell_type": "code",
   "execution_count": 5,
   "metadata": {},
   "outputs": [
    {
     "name": "stdout",
     "output_type": "stream",
     "text": [
      "           user_id date_served marketing_channel  variant converted  \\\n",
      "count        10037       10021             10022    10037     10022   \n",
      "unique        7309          31                 5        2         2   \n",
      "top     a100000882     1/15/18         House Ads  control     False   \n",
      "freq            12         789              4733     5091      8946   \n",
      "\n",
      "       language_displayed language_preferred    age_group date_subscribed  \\\n",
      "count               10037              10037        10037            1856   \n",
      "unique                  4                  4            7              31   \n",
      "top               English            English  19-24 years         1/16/18   \n",
      "freq                 9793               9275         1682             163   \n",
      "\n",
      "       date_canceled subscribing_channel is_retained  \n",
      "count            577                1856        1856  \n",
      "unique           115                   5           2  \n",
      "top           4/2/18           Instagram        True  \n",
      "freq              15                 600        1279  \n"
     ]
    }
   ],
   "source": [
    "print(marketing.describe())"
   ]
  },
  {
   "cell_type": "code",
   "execution_count": 7,
   "metadata": {},
   "outputs": [
    {
     "data": {
      "text/plain": [
       "<bound method DataFrame.info of           user_id date_served marketing_channel          variant converted  \\\n",
       "0      a100000029      1/1/18         House Ads  personalization      True   \n",
       "1      a100000030      1/1/18         House Ads  personalization      True   \n",
       "2      a100000031      1/1/18         House Ads  personalization      True   \n",
       "3      a100000032      1/1/18         House Ads  personalization      True   \n",
       "4      a100000033      1/1/18         House Ads  personalization      True   \n",
       "...           ...         ...               ...              ...       ...   \n",
       "10032  a100007290     1/17/18             Email          control      True   \n",
       "10033  a100007291     1/17/18             Email          control      True   \n",
       "10034  a100007292      1/5/18         Instagram          control     False   \n",
       "10035  a100007293     1/17/18             Email          control      True   \n",
       "10036  a100007294      1/6/18          Facebook          control     False   \n",
       "\n",
       "      language_displayed language_preferred    age_group date_subscribed  \\\n",
       "0                English            English   0-18 years          1/1/18   \n",
       "1                English            English  19-24 years          1/1/18   \n",
       "2                English            English  24-30 years          1/1/18   \n",
       "3                English            English  30-36 years          1/1/18   \n",
       "4                English            English  36-45 years          1/1/18   \n",
       "...                  ...                ...          ...             ...   \n",
       "10032             German             German  45-55 years         1/17/18   \n",
       "10033             German             German    55+ years         1/17/18   \n",
       "10034             German             German    55+ years         1/17/18   \n",
       "10035             German             German   0-18 years         1/17/18   \n",
       "10036             German             German   0-18 years         1/17/18   \n",
       "\n",
       "      date_canceled subscribing_channel is_retained  \n",
       "0               NaN           House Ads        True  \n",
       "1               NaN           House Ads        True  \n",
       "2               NaN           House Ads        True  \n",
       "3               NaN           House Ads        True  \n",
       "4               NaN           House Ads        True  \n",
       "...             ...                 ...         ...  \n",
       "10032       1/24/18               Email       False  \n",
       "10033           NaN               Email        True  \n",
       "10034           NaN               Email        True  \n",
       "10035           NaN               Email        True  \n",
       "10036           NaN               Email        True  \n",
       "\n",
       "[10037 rows x 12 columns]>"
      ]
     },
     "execution_count": 7,
     "metadata": {},
     "output_type": "execute_result"
    }
   ],
   "source": [
    "marketing.info"
   ]
  },
  {
   "cell_type": "markdown",
   "metadata": {},
   "source": [
    "3. Tipos de dados e mesclagem"
   ]
  },
  {
   "cell_type": "code",
   "execution_count": 8,
   "metadata": {},
   "outputs": [
    {
     "data": {
      "text/plain": [
       "0    True\n",
       "1    True\n",
       "2    True\n",
       "3    True\n",
       "4    True\n",
       "Name: converted, dtype: object"
      ]
     },
     "execution_count": 8,
     "metadata": {},
     "output_type": "execute_result"
    }
   ],
   "source": [
    "#print a data type os a  single colunn\n",
    "#imprimir um tipo de dados em uma única coluna\n",
    "marketing['converted'].head(5)\n"
   ]
  },
  {
   "cell_type": "code",
   "execution_count": 12,
   "metadata": {},
   "outputs": [
    {
     "data": {
      "text/plain": [
       "dtype('bool')"
      ]
     },
     "execution_count": 12,
     "metadata": {},
     "output_type": "execute_result"
    }
   ],
   "source": [
    "# Exinbindo as alterações que estamos fazendo logo a baixo \n",
    "marketing['converted'].dtype"
   ]
  },
  {
   "cell_type": "code",
   "execution_count": 10,
   "metadata": {},
   "outputs": [
    {
     "data": {
      "text/plain": [
       "0         True\n",
       "1         True\n",
       "2         True\n",
       "3         True\n",
       "4         True\n",
       "         ...  \n",
       "10032     True\n",
       "10033     True\n",
       "10034    False\n",
       "10035     True\n",
       "10036    False\n",
       "Name: converted, Length: 10037, dtype: bool"
      ]
     },
     "execution_count": 10,
     "metadata": {},
     "output_type": "execute_result"
    }
   ],
   "source": [
    "marketing['converted'].astype('bool') # mostrando o que esta sendo exibido antes de fazer a autereção de object para boliano"
   ]
  },
  {
   "cell_type": "code",
   "execution_count": 11,
   "metadata": {},
   "outputs": [],
   "source": [
    "marketing['converted'] = marketing['converted'].astype('bool') \n",
    "# EXECUÇÃO PARA A CONVERSÃO E ARMAZENAMENTO DA CONVERSÃO DE OBJECT PARA BOLLIANO"
   ]
  },
  {
   "cell_type": "code",
   "execution_count": 24,
   "metadata": {},
   "outputs": [
    {
     "name": "stdout",
     "output_type": "stream",
     "text": [
      "Defaulting to user installation because normal site-packages is not writeable\n",
      "Note: you may need to restart the kernel to use updated packages.\n"
     ]
    },
    {
     "name": "stderr",
     "output_type": "stream",
     "text": [
      "\n",
      "[notice] A new release of pip is available: 24.3.1 -> 25.0.1\n",
      "[notice] To update, run: python.exe -m pip install --upgrade pip\n",
      "ERROR: Invalid requirement: '#': Expected package name at the start of dependency specifier\n",
      "    #\n",
      "    ^\n"
     ]
    }
   ],
   "source": [
    "%pip install numpy  # instalação do numpy "
   ]
  },
  {
   "cell_type": "code",
   "execution_count": 13,
   "metadata": {},
   "outputs": [
    {
     "name": "stdout",
     "output_type": "stream",
     "text": [
      "numpy version: 2.2.0\n"
     ]
    }
   ],
   "source": [
    "import numpy\n",
    "print('numpy version:', numpy.__version__)"
   ]
  },
  {
   "cell_type": "code",
   "execution_count": 14,
   "metadata": {},
   "outputs": [
    {
     "data": {
      "text/plain": [
       "(False, True, False)"
      ]
     },
     "execution_count": 14,
     "metadata": {},
     "output_type": "execute_result"
    }
   ],
   "source": [
    "import numpy as np\n",
    "np.where(marketing['marketing_channel']) == 'House Ads', True, False"
   ]
  },
  {
   "cell_type": "code",
   "execution_count": 15,
   "metadata": {},
   "outputs": [
    {
     "name": "stdout",
     "output_type": "stream",
     "text": [
      "0    False\n",
      "1    False\n",
      "2    False\n",
      "Name: is_house_ads, dtype: bool\n"
     ]
    }
   ],
   "source": [
    "marketing['is_house_ads'] = np.where(marketing['marketing_channel'] == 'house ads', True, False)\n",
    "print(marketing.is_house_ads.head(3))"
   ]
  },
  {
   "cell_type": "code",
   "execution_count": 16,
   "metadata": {},
   "outputs": [
    {
     "name": "stdout",
     "output_type": "stream",
     "text": [
      "0    1.0\n",
      "1    1.0\n",
      "2    1.0\n",
      "Name: channel_code, dtype: float64\n"
     ]
    }
   ],
   "source": [
    "# acho que o codigo abaixo esta incompleto por isso estou copiando novamento o codigo do pdf aula 3\n",
    "channel_dict = {\n",
    "    'House Ads': 1,\n",
    "    'Instagram': 2,\n",
    "    \"Facebook\": 3,\n",
    "    'Email': 4,\n",
    "    'Push': 5,\n",
    "    '': 0\n",
    "\n",
    "}\n",
    "marketing[\"channel_code\"] = marketing[\"marketing_channel\"].map(channel_dict)\n",
    "\n",
    "print(marketing[\"channel_code\"].head(3))"
   ]
  },
  {
   "cell_type": "code",
   "execution_count": 17,
   "metadata": {},
   "outputs": [
    {
     "name": "stdout",
     "output_type": "stream",
     "text": [
      "Index(['user_id', 'date_served', 'marketing_channel', 'variant', 'converted',\n",
      "       'language_displayed', 'language_preferred', 'age_group',\n",
      "       'date_subscribed', 'date_canceled', 'subscribing_channel',\n",
      "       'is_retained', 'is_house_ads', 'channel_code'],\n",
      "      dtype='object')\n"
     ]
    }
   ],
   "source": [
    "print(marketing.columns)"
   ]
  },
  {
   "cell_type": "code",
   "execution_count": 18,
   "metadata": {},
   "outputs": [
    {
     "data": {
      "text/plain": [
       "0        1\n",
       "1        1\n",
       "2        1\n",
       "3        1\n",
       "4        1\n",
       "        ..\n",
       "10032    4\n",
       "10033    4\n",
       "10034    2\n",
       "10035    4\n",
       "10036    3\n",
       "Name: marketing_channel, Length: 10037, dtype: int64"
      ]
     },
     "execution_count": 18,
     "metadata": {},
     "output_type": "execute_result"
    }
   ],
   "source": [
    "channel_dict = {\n",
    "    'House Ads': 1,\n",
    "    'Instagram': 2,\n",
    "    \"Facebook\": 3,\n",
    "    'Email': 4,\n",
    "    'Push': 5,\n",
    "    '': 0\n",
    "\n",
    "}\n",
    "# set na values to default\n",
    "# definir valores na para o padrão\n",
    "marketing['marketing_channel'].fillna('').map(channel_dict) # Outra forma de se fazer trabalhar com o campo vazio\n",
    "#marketing['marketing_channel'].dropna().map(channel_dict)\n",
    "#dropna() = para retirar os campos em brancos "
   ]
  },
  {
   "cell_type": "code",
   "execution_count": 19,
   "metadata": {},
   "outputs": [
    {
     "name": "stdout",
     "output_type": "stream",
     "text": [
      "Index(['user_id', 'date_served', 'marketing_channel', 'variant', 'converted',\n",
      "       'language_displayed', 'language_preferred', 'age_group',\n",
      "       'date_subscribed', 'date_canceled', 'subscribing_channel',\n",
      "       'is_retained', 'is_house_ads', 'channel_code'],\n",
      "      dtype='object')\n"
     ]
    }
   ],
   "source": [
    "print( marketing.columns)"
   ]
  },
  {
   "cell_type": "markdown",
   "metadata": {},
   "source": [
    "Colunas do tipo Data"
   ]
  },
  {
   "cell_type": "code",
   "execution_count": 20,
   "metadata": {},
   "outputs": [
    {
     "name": "stderr",
     "output_type": "stream",
     "text": [
      "C:\\Users\\23114290012\\AppData\\Local\\Temp\\ipykernel_12660\\737993404.py:2: UserWarning: Could not infer format, so each element will be parsed individually, falling back to `dateutil`. To ensure parsing is consistent and as-expected, please specify a format.\n",
      "  marketing = pd.read_csv('marketing.csv',\n",
      "C:\\Users\\23114290012\\AppData\\Local\\Temp\\ipykernel_12660\\737993404.py:2: UserWarning: Could not infer format, so each element will be parsed individually, falling back to `dateutil`. To ensure parsing is consistent and as-expected, please specify a format.\n",
      "  marketing = pd.read_csv('marketing.csv',\n",
      "C:\\Users\\23114290012\\AppData\\Local\\Temp\\ipykernel_12660\\737993404.py:2: UserWarning: Could not infer format, so each element will be parsed individually, falling back to `dateutil`. To ensure parsing is consistent and as-expected, please specify a format.\n",
      "  marketing = pd.read_csv('marketing.csv',\n"
     ]
    }
   ],
   "source": [
    "# read date columns using parse_dates\n",
    "marketing = pd.read_csv('marketing.csv',\n",
    "                         parse_dates =['date_served',\n",
    "                                        'date_subscribed',\n",
    "                                          'date_canceled'])\n",
    "marketing['date_served'] = pd.to_datetime(marketing['date_served'])"
   ]
  },
  {
   "cell_type": "code",
   "execution_count": 21,
   "metadata": {},
   "outputs": [],
   "source": [
    "# OU converter coluna já existente em coluna de data e hora\n",
    "marketing['date_served'] = pd.to_datetime(marketing ['date_served'])\n",
    "marketing['day_served'] = marketing['date_served'].dt.day_of_week"
   ]
  },
  {
   "cell_type": "markdown",
   "metadata": {},
   "source": [
    "Atulizando o tipo de dados de uma coluna "
   ]
  },
  {
   "cell_type": "code",
   "execution_count": 22,
   "metadata": {},
   "outputs": [
    {
     "name": "stdout",
     "output_type": "stream",
     "text": [
      "object\n"
     ]
    }
   ],
   "source": [
    "#Veficando o tipo de dado da coluna is_retained\n",
    "print(marketing['is_retained'].dtype)"
   ]
  },
  {
   "cell_type": "code",
   "execution_count": 23,
   "metadata": {},
   "outputs": [],
   "source": [
    "#Converta is_retained para Booleano\n",
    "marketing[\"is_retained\"] = marketing['is_retained'].astype('bool')"
   ]
  },
  {
   "cell_type": "code",
   "execution_count": 24,
   "metadata": {},
   "outputs": [],
   "source": [
    "# Mapping for channels\n",
    "channel_dict = {\"House Ads\": 1, \"Instagram\": 2, \n",
    "                \"Facebook\": 3, \"Email\": 4, \"Push\": 5}\n",
    "\n",
    "# Map the channel to a channel code\n",
    "marketing['channel_code'] = marketing['subscribing_channel'].map(channel_dict)"
   ]
  },
  {
   "cell_type": "code",
   "execution_count": 26,
   "metadata": {},
   "outputs": [
    {
     "ename": "NameError",
     "evalue": "name '____' is not defined",
     "output_type": "error",
     "traceback": [
      "\u001b[31m---------------------------------------------------------------------------\u001b[39m",
      "\u001b[31mNameError\u001b[39m                                 Traceback (most recent call last)",
      "\u001b[36mCell\u001b[39m\u001b[36m \u001b[39m\u001b[32mIn[26]\u001b[39m\u001b[32m, line 2\u001b[39m\n\u001b[32m      1\u001b[39m \u001b[38;5;66;03m# Import numpy\u001b[39;00m\n\u001b[32m----> \u001b[39m\u001b[32m2\u001b[39m \u001b[43m____\u001b[49m\n\u001b[32m      4\u001b[39m \u001b[38;5;66;03m# Add the new column is_correct_lang\u001b[39;00m\n\u001b[32m      5\u001b[39m marketing[\u001b[33m'\u001b[39m\u001b[33mis_correct_lang\u001b[39m\u001b[33m'\u001b[39m] = language_displayed\n",
      "\u001b[31mNameError\u001b[39m: name '____' is not defined"
     ]
    }
   ],
   "source": [
    "# Import numpy\n",
    "____\n",
    "\n",
    "# Add the new column is_correct_lang\n",
    "marketing['is_correct_lang'] = language_displayed"
   ]
  }
 ],
 "metadata": {
  "kernelspec": {
   "display_name": "Python 3",
   "language": "python",
   "name": "python3"
  },
  "language_info": {
   "codemirror_mode": {
    "name": "ipython",
    "version": 3
   },
   "file_extension": ".py",
   "mimetype": "text/x-python",
   "name": "python",
   "nbconvert_exporter": "python",
   "pygments_lexer": "ipython3",
   "version": "3.13.1"
  }
 },
 "nbformat": 4,
 "nbformat_minor": 2
}
