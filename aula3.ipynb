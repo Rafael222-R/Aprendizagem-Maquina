{
 "cells": [
  {
   "cell_type": "code",
   "execution_count": null,
   "metadata": {},
   "outputs": [],
   "source": [
    "pip install pandas"
   ]
  },
  {
   "cell_type": "code",
   "execution_count": null,
   "metadata": {},
   "outputs": [],
   "source": [
    "\n",
    "import numpy\n",
    "import pandas\n",
    "print('numpy version:', numpy.__version__)\n",
    "print('pandas version:', pandas.__version__)"
   ]
  },
  {
   "cell_type": "code",
   "execution_count": null,
   "metadata": {},
   "outputs": [],
   "source": [
    "import pandas as pd\n",
    "\n",
    "#Create a DataFrame\n",
    "\n",
    "marketing = pd.read_csv('marketing.csv', delimiter=',')"
   ]
  },
  {
   "cell_type": "markdown",
   "metadata": {},
   "source": [
    "Exibindo dados do DataFrame Marking"
   ]
  },
  {
   "cell_type": "code",
   "execution_count": null,
   "metadata": {},
   "outputs": [],
   "source": [
    "print(marketing.head(5)) # Exibir todos os dados da Colunas "
   ]
  },
  {
   "cell_type": "code",
   "execution_count": null,
   "metadata": {},
   "outputs": [],
   "source": [
    "print(marketing.describe())"
   ]
  },
  {
   "cell_type": "code",
   "execution_count": null,
   "metadata": {},
   "outputs": [],
   "source": [
    "marketing.info"
   ]
  },
  {
   "cell_type": "markdown",
   "metadata": {},
   "source": [
    "3. Tipos de dados e mesclagem"
   ]
  },
  {
   "cell_type": "code",
   "execution_count": null,
   "metadata": {},
   "outputs": [],
   "source": [
    "#print a data type os a  single colunn\n",
    "#imprimir um tipo de dados em uma única coluna\n",
    "marketing['converted'].head(5)\n"
   ]
  },
  {
   "cell_type": "code",
   "execution_count": null,
   "metadata": {},
   "outputs": [],
   "source": [
    "# Exinbindo as alterações que estamos fazendo logo a baixo \n",
    "marketing['converted'].dtype"
   ]
  },
  {
   "cell_type": "code",
   "execution_count": null,
   "metadata": {},
   "outputs": [],
   "source": [
    "marketing['converted'].astype('bool') # mostrando o que esta sendo exibido antes de fazer a autereção de object para boliano"
   ]
  },
  {
   "cell_type": "code",
   "execution_count": null,
   "metadata": {},
   "outputs": [],
   "source": [
    "marketing['converted'] = marketing['converted'].astype('bool') \n",
    "# EXECUÇÃO PARA A CONVERSÃO E ARMAZENAMENTO DA CONVERSÃO DE OBJECT PARA BOLLIANO"
   ]
  },
  {
   "cell_type": "code",
   "execution_count": null,
   "metadata": {},
   "outputs": [],
   "source": [
    "%pip install numpy  # instalação do numpy "
   ]
  },
  {
   "cell_type": "code",
   "execution_count": null,
   "metadata": {},
   "outputs": [],
   "source": [
    "import numpy\n",
    "print('numpy version:', numpy.__version__)"
   ]
  },
  {
   "cell_type": "code",
   "execution_count": null,
   "metadata": {},
   "outputs": [],
   "source": [
    "import numpy as np\n",
    "np.where(marketing['marketing_channel']) == 'House Ads', True, False"
   ]
  },
  {
   "cell_type": "code",
   "execution_count": null,
   "metadata": {},
   "outputs": [],
   "source": [
    "marketing['is_house_ads'] = np.where(marketing['marketing_channel'] == 'house ads', True, False)\n",
    "print(marketing.is_house_ads.head(3))"
   ]
  },
  {
   "cell_type": "code",
   "execution_count": null,
   "metadata": {},
   "outputs": [],
   "source": [
    "# acho que o codigo abaixo esta incompleto por isso estou copiando novamento o codigo do pdf aula 3\n",
    "channel_dict = {\n",
    "    'House Ads': 1,\n",
    "    'Instagram': 2,\n",
    "    \"Facebook\": 3,\n",
    "    'Email': 4,\n",
    "    'Push': 5,\n",
    "    '': 0\n",
    "\n",
    "}\n",
    "marketing[\"channel_code\"] = marketing[\"marketing_channel\"].map(channel_dict)\n",
    "\n",
    "print(marketing[\"channel_code\"].head(3))"
   ]
  },
  {
   "cell_type": "code",
   "execution_count": null,
   "metadata": {},
   "outputs": [],
   "source": [
    "print(marketing.columns)"
   ]
  },
  {
   "cell_type": "code",
   "execution_count": null,
   "metadata": {},
   "outputs": [],
   "source": [
    "channel_dict = {\n",
    "    'House Ads': 1,\n",
    "    'Instagram': 2,\n",
    "    \"Facebook\": 3,\n",
    "    'Email': 4,\n",
    "    'Push': 5,\n",
    "    '': 0\n",
    "\n",
    "}\n",
    "# set na values to default\n",
    "# definir valores na para o padrão\n",
    "marketing['marketing_channel'].fillna('').map(channel_dict) # Outra forma de se fazer trabalhar com o campo vazio\n",
    "#marketing['marketing_channel'].dropna().map(channel_dict)\n",
    "#dropna() = para retirar os campos em brancos "
   ]
  },
  {
   "cell_type": "code",
   "execution_count": null,
   "metadata": {},
   "outputs": [],
   "source": [
    "print( marketing.columns)"
   ]
  },
  {
   "cell_type": "markdown",
   "metadata": {},
   "source": [
    "Colunas do tipo Data"
   ]
  },
  {
   "cell_type": "code",
   "execution_count": null,
   "metadata": {},
   "outputs": [],
   "source": [
    "# leia colunas de data usando parse_dates\n",
    "marketing = pd.read_csv('marketing.csv',\n",
    "                         parse_dates =['date_served',\n",
    "                                        'date_subscribed',\n",
    "                                          'date_canceled'])\n",
    "marketing['date_served'] = pd.to_datetime(marketing['date_served'])"
   ]
  },
  {
   "cell_type": "code",
   "execution_count": null,
   "metadata": {},
   "outputs": [],
   "source": [
    "# OU converter coluna já existente em coluna de data e hora\n",
    "marketing['date_served'] = pd.to_datetime(marketing ['date_served'])\n",
    "marketing['day_served'] = marketing['date_served'].dt.day_of_week"
   ]
  },
  {
   "cell_type": "markdown",
   "metadata": {},
   "source": [
    "Atulizando o tipo de dados de uma coluna "
   ]
  },
  {
   "cell_type": "code",
   "execution_count": null,
   "metadata": {},
   "outputs": [],
   "source": [
    "#Veficando o tipo de dado da coluna is_retained\n",
    "print(marketing['is_retained'].dtype)"
   ]
  },
  {
   "cell_type": "code",
   "execution_count": null,
   "metadata": {},
   "outputs": [],
   "source": [
    "#Converta is_retained para Booleano\n",
    "marketing[\"is_retained\"] = marketing['is_retained'].astype('bool')"
   ]
  },
  {
   "cell_type": "markdown",
   "metadata": {},
   "source": [
    "Adicionando novas colunas"
   ]
  },
  {
   "cell_type": "code",
   "execution_count": null,
   "metadata": {},
   "outputs": [],
   "source": [
    "# Mapeamento para Canais\n",
    "channel_dict = {\"House Ads\": 1, \"Instagram\": 2, \n",
    "\"Facebook\": 3, \n",
    "\"Email\": 4, \n",
    "\"Push\": 5}\n",
    "\n",
    "# Mapear o canal para um codigo de canal\n",
    "marketing['channel_code'] = marketing['subscribing_channel'].map(channel_dict)"
   ]
  },
  {
   "cell_type": "code",
   "execution_count": null,
   "metadata": {},
   "outputs": [],
   "source": [
    "# Import numpy\n",
    "import numpy as np\n",
    "# Add the new column is_correct_lang\n",
    "marketing['is_correct_lang'] = np.where(\n",
    "    marketing['language_preferred'] == marketing['language_displayed'], 'Yes', 'No'\n",
    ")"
   ]
  },
  {
   "cell_type": "code",
   "execution_count": null,
   "metadata": {},
   "outputs": [],
   "source": [
    "# Aqui esta mosntrando as 5 primeira linhas\n",
    "print(marketing['is_correct_lang'].head())"
   ]
  },
  {
   "cell_type": "code",
   "execution_count": null,
   "metadata": {},
   "outputs": [],
   "source": [
    "# Aqui esta trazendo o total de YES e NO \n",
    "print(marketing['is_correct_lang'].value_counts())"
   ]
  },
  {
   "cell_type": "markdown",
   "metadata": {},
   "source": [
    "Colunas de Data "
   ]
  },
  {
   "cell_type": "code",
   "execution_count": null,
   "metadata": {},
   "outputs": [],
   "source": [
    "# Import pandas into the environment\n",
    "import pandas as pd\n",
    "\n",
    "# Import marketing.csv with date columns\n",
    "marketing = pd.read_csv(\"marketing.csv\", parse_dates= [\"date_served\", \"date_subscribed\", \"date_canceled\"])\n",
    "\n",
    "# Add a DoW column\n",
    "marketing['DoW'] = marketing['date_subscribed'].dt.dayofweek\n",
    "\n",
    "print(marketing.head())"
   ]
  },
  {
   "cell_type": "markdown",
   "metadata": {},
   "source": [
    "3. Análise exploratória inicial"
   ]
  },
  {
   "cell_type": "code",
   "execution_count": null,
   "metadata": {},
   "outputs": [],
   "source": [
    "# Aggregate unique users taht see ads by date\n",
    "# Agregar usuários únicos que veem anúncios por data\n",
    "\n",
    "daily_users = marketing.groupby (['date_served']) ['user_id'].nunique()\n",
    "\n",
    "print(daily_users)"
   ]
  },
  {
   "cell_type": "markdown",
   "metadata": {},
   "source": [
    "Visualização dos resultados"
   ]
  },
  {
   "cell_type": "code",
   "execution_count": null,
   "metadata": {},
   "outputs": [],
   "source": [
    "import matplotlib.pyplot as plt\n",
    "\n",
    "# Plot\n",
    "daily_users.plot()\n",
    "\n",
    "# Annotate\n",
    "\n",
    "plt.title('Número diário de usuários que veem anúncios')\n",
    "plt.xlabel('date')\n",
    "plt.ylabel(\"Number of Users\")\n",
    "plt.xticks(rotation = 45)\n",
    "plt.show()\n"
   ]
  },
  {
   "cell_type": "markdown",
   "metadata": {},
   "source": [
    "Alcance diário de marketing por canal"
   ]
  },
  {
   "cell_type": "code",
   "execution_count": null,
   "metadata": {},
   "outputs": [],
   "source": [
    "# Agrupar por data de atendimento e contar o número de IDs de usuários exclusivos\n",
    "\n",
    "daily_users= marketing.groupby(['date_served']) ['user_id'].nunique()\n",
    "\n",
    "# Cabeçalho de impressão de daily_users\n",
    "print(daily_users.head)"
   ]
  },
  {
   "cell_type": "markdown",
   "metadata": {},
   "source": [
    "Visualizando o alcance diário de marketing"
   ]
  },
  {
   "cell_type": "code",
   "execution_count": null,
   "metadata": {},
   "outputs": [],
   "source": [
    "import matplotlib.pyplot as plt\n",
    "\n",
    "daily_users.plot()\n",
    "\n",
    "plt.title(\"Numero de usuarios veem anuncios\")\n",
    "plt.xlabel('Date')\n",
    "plt.ylabel(\"Numero de usuarios\")\n",
    "plt.xticks(rotation = 45)\n",
    "plt.show()"
   ]
  }
 ],
 "metadata": {
  "kernelspec": {
   "display_name": "Python 3",
   "language": "python",
   "name": "python3"
  },
  "language_info": {
   "codemirror_mode": {
    "name": "ipython",
    "version": 3
   },
   "file_extension": ".py",
   "mimetype": "text/x-python",
   "name": "python",
   "nbconvert_exporter": "python",
   "pygments_lexer": "ipython3",
   "version": "3.12.10"
  }
 },
 "nbformat": 4,
 "nbformat_minor": 2
}
